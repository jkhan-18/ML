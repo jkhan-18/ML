{
 "cells": [
  {
   "cell_type": "markdown",
   "id": "399f4ab1",
   "metadata": {},
   "source": [
    "<h3 align=\"center\" style=\"color:blue\">Codebasics Python Course: Numpy Exercise</h3>"
   ]
  },
  {
   "cell_type": "markdown",
   "id": "99f1a070",
   "metadata": {},
   "source": [
    "Below two numpy arrays are given with following columns. \n",
    "\n",
    "* Employee Details (1) Employee ID (2) Department (3) Salary\n",
    "* Performance Metrics (1) Employee ID (2) Performance Score (out of 100) (3) Number of Projects Completed\n",
    "\n",
    "Using these two arrays you need to complete set of tasks which are given in the notebook cells (along with hints)"
   ]
  },
  {
   "cell_type": "code",
   "execution_count": 1,
   "id": "ec997f5a",
   "metadata": {},
   "outputs": [],
   "source": [
    "import numpy as np\n",
    "\n",
    "# Employee Details (1) Employee ID (2) Department (3) Salary\n",
    "employee_details = np.array([\n",
    "    [101, 'Sales', 55000, 'Satya Nadella'],  \n",
    "    [102, 'HR', 52000, 'Emily Johnson'],    \n",
    "    [103, 'IT', 72000, 'Fatima Razaak'],        \n",
    "    [104, 'Sales', 60000, 'John Smith'],    \n",
    "    [105, 'IT', 68000, 'Priya Singh'],      \n",
    "    [106, 'HR', 54000, 'Li Wei'],           \n",
    "    [107, 'IT', 71000, 'Michael Brown'],    \n",
    "    [108, 'Sales', 59000, 'Sunita Sharma'], \n",
    "    [109, 'HR', 53000, 'Chen Wei']          \n",
    "])\n",
    "\n",
    "# Performance Metrics (1) Employee ID (2) Performance Score (out of 100) (3) Number of Projects Completed\n",
    "performance_metrics = np.array([\n",
    "    [101, 85, 5],\n",
    "    [102, 78, 3],\n",
    "    [103, 92, 7],\n",
    "    [104, 88, 6],\n",
    "    [105, 79, 4],\n",
    "    [106, 81, 5],\n",
    "    [107, 91, 8],\n",
    "    [108, 77, 4],\n",
    "    [109, 83, 4]\n",
    "])"
   ]
  },
  {
   "cell_type": "markdown",
   "id": "d2a4d20d",
   "metadata": {},
   "source": [
    "### Task 1: Merge above two numpy arrays using np.hstack"
   ]
  },
  {
   "cell_type": "code",
   "execution_count": 24,
   "id": "6f15bb12",
   "metadata": {},
   "outputs": [
    {
     "data": {
      "text/plain": [
       "array([['101', 'Sales', '52000', 'Satya Nadella', '101', '85', '5'],\n",
       "       ['102', 'HR', '53000', 'Emily Johnson', '102', '78', '3'],\n",
       "       ['103', 'IT', '54000', 'Fatima Razaak', '103', '92', '7'],\n",
       "       ['104', 'Sales', '55000', 'John Smith', '104', '88', '6'],\n",
       "       ['105', 'IT', '59000', 'Priya Singh', '105', '79', '4'],\n",
       "       ['106', 'HR', '60000', 'Li Wei', '106', '81', '5'],\n",
       "       ['107', 'IT', '68000', 'Michael Brown', '107', '91', '8'],\n",
       "       ['108', 'Sales', '71000', 'Sunita Sharma', '108', '77', '4'],\n",
       "       ['109', 'HR', '72000', 'Chen Wei', '109', '83', '4']], dtype='<U21')"
      ]
     },
     "execution_count": 24,
     "metadata": {},
     "output_type": "execute_result"
    }
   ],
   "source": [
    "merged = np.hstack((employee_details, performance_metrics))\n",
    "merged"
   ]
  },
  {
   "cell_type": "markdown",
   "id": "f6a93493",
   "metadata": {},
   "source": [
    "### Task 2: Print All the Salaries"
   ]
  },
  {
   "cell_type": "code",
   "execution_count": 25,
   "id": "6465fc6f",
   "metadata": {},
   "outputs": [
    {
     "data": {
      "text/plain": [
       "array(['52000', '53000', '54000', '55000', '59000', '60000', '68000',\n",
       "       '71000', '72000'], dtype='<U21')"
      ]
     },
     "execution_count": 25,
     "metadata": {},
     "output_type": "execute_result"
    }
   ],
   "source": [
    "merged[:, 2]"
   ]
  },
  {
   "cell_type": "markdown",
   "id": "18313d6c",
   "metadata": {},
   "source": [
    "### Task 3:  Print All the Salaries in Ascending Order"
   ]
  },
  {
   "cell_type": "code",
   "execution_count": 26,
   "id": "388a42b8",
   "metadata": {
    "scrolled": true
   },
   "outputs": [
    {
     "data": {
      "text/plain": [
       "array(['52000', '53000', '54000', '55000', '59000', '60000', '68000',\n",
       "       '71000', '72000'], dtype='<U21')"
      ]
     },
     "execution_count": 26,
     "metadata": {},
     "output_type": "execute_result"
    }
   ],
   "source": [
    "np.sort(merged[:, 2])"
   ]
  },
  {
   "cell_type": "markdown",
   "id": "f8167f59",
   "metadata": {},
   "source": [
    "### Task 4:  Iterate through entire array and print only employee id and name"
   ]
  },
  {
   "cell_type": "code",
   "execution_count": 28,
   "id": "504c7fba",
   "metadata": {},
   "outputs": [
    {
     "data": {
      "text/plain": [
       "array([['101', 'Satya Nadella'],\n",
       "       ['102', 'Emily Johnson'],\n",
       "       ['103', 'Fatima Razaak'],\n",
       "       ['104', 'John Smith'],\n",
       "       ['105', 'Priya Singh'],\n",
       "       ['106', 'Li Wei'],\n",
       "       ['107', 'Michael Brown'],\n",
       "       ['108', 'Sunita Sharma'],\n",
       "       ['109', 'Chen Wei']], dtype='<U21')"
      ]
     },
     "execution_count": 28,
     "metadata": {},
     "output_type": "execute_result"
    }
   ],
   "source": [
    "merged[:, [0, 3]]"
   ]
  },
  {
   "cell_type": "code",
   "execution_count": 67,
   "id": "673f310a-1b93-4aeb-8017-06f827fd4432",
   "metadata": {},
   "outputs": [
    {
     "name": "stdout",
     "output_type": "stream",
     "text": [
      "ID: 101, Name: Satya Nadella\n",
      "ID: 102, Name: Emily Johnson\n",
      "ID: 103, Name: Fatima Razaak\n",
      "ID: 104, Name: John Smith\n",
      "ID: 105, Name: Priya Singh\n",
      "ID: 106, Name: Li Wei\n",
      "ID: 107, Name: Michael Brown\n",
      "ID: 108, Name: Sunita Sharma\n",
      "ID: 109, Name: Chen Wei\n"
     ]
    }
   ],
   "source": [
    "for row in merged:\n",
    "    print(f'ID: {row[0]}, Name: {row[3]}')"
   ]
  },
  {
   "cell_type": "markdown",
   "id": "586b7e31",
   "metadata": {},
   "source": [
    "### Task 5: Print performance score of all the employees"
   ]
  },
  {
   "cell_type": "code",
   "execution_count": 29,
   "id": "1584d882",
   "metadata": {},
   "outputs": [
    {
     "data": {
      "text/plain": [
       "array(['85', '78', '92', '88', '79', '81', '91', '77', '83'], dtype='<U21')"
      ]
     },
     "execution_count": 29,
     "metadata": {},
     "output_type": "execute_result"
    }
   ],
   "source": [
    "merged[:, 5]"
   ]
  },
  {
   "cell_type": "markdown",
   "id": "3d9a92ef",
   "metadata": {},
   "source": [
    "### Task 6: Convert these scores to float type by using astype(float) function"
   ]
  },
  {
   "cell_type": "code",
   "execution_count": 36,
   "id": "050ee1ae",
   "metadata": {},
   "outputs": [
    {
     "data": {
      "text/plain": [
       "array([85., 78., 92., 88., 79., 81., 91., 77., 83.])"
      ]
     },
     "execution_count": 36,
     "metadata": {},
     "output_type": "execute_result"
    }
   ],
   "source": [
    "scores_in_float = merged[:, 5].astype(dtype=float)\n",
    "scores_in_float"
   ]
  },
  {
   "cell_type": "markdown",
   "id": "d16afb33",
   "metadata": {},
   "source": [
    "### Task 7:  Now print the average performance score of all the employees"
   ]
  },
  {
   "cell_type": "code",
   "execution_count": 70,
   "id": "94086c24",
   "metadata": {},
   "outputs": [
    {
     "data": {
      "text/plain": [
       "np.float64(83.77777777777777)"
      ]
     },
     "execution_count": 70,
     "metadata": {},
     "output_type": "execute_result"
    }
   ],
   "source": [
    "np.mean(scores_in_float).astype(float)"
   ]
  },
  {
   "cell_type": "markdown",
   "id": "86902984",
   "metadata": {},
   "source": [
    "### Task 8:  Print all the unique departments. You can use np.unique function for this"
   ]
  },
  {
   "cell_type": "code",
   "execution_count": 43,
   "id": "b95ca0ef",
   "metadata": {},
   "outputs": [
    {
     "data": {
      "text/plain": [
       "array(['Sales', 'HR', 'IT', 'Sales', 'IT', 'HR', 'IT', 'Sales', 'HR'],\n",
       "      dtype='<U21')"
      ]
     },
     "execution_count": 43,
     "metadata": {},
     "output_type": "execute_result"
    }
   ],
   "source": [
    "# first print departments from all the records\n",
    "merged[:, 1]"
   ]
  },
  {
   "cell_type": "code",
   "execution_count": 45,
   "id": "8b567172",
   "metadata": {},
   "outputs": [
    {
     "data": {
      "text/plain": [
       "array(['HR', 'IT', 'Sales'], dtype='<U21')"
      ]
     },
     "execution_count": 45,
     "metadata": {},
     "output_type": "execute_result"
    }
   ],
   "source": [
    "# now print unique departments\n",
    "\n",
    "np.unique(merged[:, 1])"
   ]
  },
  {
   "cell_type": "markdown",
   "id": "5707cbae",
   "metadata": {},
   "source": [
    "### Task 9: Print average salary in HR department"
   ]
  },
  {
   "cell_type": "code",
   "execution_count": 55,
   "id": "2638deb2",
   "metadata": {},
   "outputs": [
    {
     "data": {
      "text/plain": [
       "array([['101', 'Sales', '52000', 'Satya Nadella', '101', '85', '5'],\n",
       "       ['102', 'HR', '53000', 'Emily Johnson', '102', '78', '3'],\n",
       "       ['103', 'IT', '54000', 'Fatima Razaak', '103', '92', '7'],\n",
       "       ['104', 'Sales', '55000', 'John Smith', '104', '88', '6'],\n",
       "       ['105', 'IT', '59000', 'Priya Singh', '105', '79', '4'],\n",
       "       ['106', 'HR', '60000', 'Li Wei', '106', '81', '5'],\n",
       "       ['107', 'IT', '68000', 'Michael Brown', '107', '91', '8'],\n",
       "       ['108', 'Sales', '71000', 'Sunita Sharma', '108', '77', '4'],\n",
       "       ['109', 'HR', '72000', 'Chen Wei', '109', '83', '4']], dtype='<U21')"
      ]
     },
     "execution_count": 55,
     "metadata": {},
     "output_type": "execute_result"
    }
   ],
   "source": [
    "# First print all the records in HR department\n",
    "merged"
   ]
  },
  {
   "cell_type": "code",
   "execution_count": 63,
   "id": "c80236cf-a9aa-498f-8c24-070862df5141",
   "metadata": {},
   "outputs": [
    {
     "data": {
      "text/plain": [
       "array([['102', 'HR', '53000', 'Emily Johnson', '102', '78', '3'],\n",
       "       ['106', 'HR', '60000', 'Li Wei', '106', '81', '5'],\n",
       "       ['109', 'HR', '72000', 'Chen Wei', '109', '83', '4']], dtype='<U21')"
      ]
     },
     "execution_count": 63,
     "metadata": {},
     "output_type": "execute_result"
    }
   ],
   "source": [
    "mask = (merged[:, 1] == 'HR')\n",
    "merged[mask]"
   ]
  },
  {
   "cell_type": "code",
   "execution_count": 64,
   "id": "39ea4122",
   "metadata": {},
   "outputs": [
    {
     "data": {
      "text/plain": [
       "array(['53000', '60000', '72000'], dtype='<U21')"
      ]
     },
     "execution_count": 64,
     "metadata": {},
     "output_type": "execute_result"
    }
   ],
   "source": [
    "# Now from these records only print  the salary column. Convert that to float using astype(float) function\n",
    "\n",
    "merged[mask][:, 2]"
   ]
  },
  {
   "cell_type": "code",
   "execution_count": 66,
   "id": "5c836bbb",
   "metadata": {},
   "outputs": [
    {
     "data": {
      "text/plain": [
       "np.float64(61666.666666666664)"
      ]
     },
     "execution_count": 66,
     "metadata": {},
     "output_type": "execute_result"
    }
   ],
   "source": [
    "# Take an average of this column using np.mean() function\n",
    "\n",
    "merged[mask][:, 2].astype(dtype=float).mean()"
   ]
  },
  {
   "cell_type": "code",
   "execution_count": null,
   "id": "ff4e4df9-135a-4d4d-b32d-8189af872d34",
   "metadata": {},
   "outputs": [],
   "source": []
  }
 ],
 "metadata": {
  "kernelspec": {
   "display_name": "Python 3 (ipykernel)",
   "language": "python",
   "name": "python3"
  },
  "language_info": {
   "codemirror_mode": {
    "name": "ipython",
    "version": 3
   },
   "file_extension": ".py",
   "mimetype": "text/x-python",
   "name": "python",
   "nbconvert_exporter": "python",
   "pygments_lexer": "ipython3",
   "version": "3.10.11"
  }
 },
 "nbformat": 4,
 "nbformat_minor": 5
}

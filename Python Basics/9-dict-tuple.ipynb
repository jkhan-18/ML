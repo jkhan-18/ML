{
 "cells": [
  {
   "cell_type": "markdown",
   "metadata": {
    "id": "-1w8FvciHKAY"
   },
   "source": [
    "# 9 Dictionary and Tuples\n",
    "\n",
    "Excercise Solution"
   ]
  },
  {
   "cell_type": "markdown",
   "metadata": {
    "id": "XnyBe36CHQlG"
   },
   "source": [
    "### 1. Create a list of your friend’s name and now create a list of tuples. The tuple should contain the friend’s name and length of the name. For Example: if someone’s name is Aditya, the tuple would be: (‘Aditya’, 6)"
   ]
  },
  {
   "cell_type": "code",
   "execution_count": 9,
   "metadata": {},
   "outputs": [],
   "source": [
    "friends = ['Jack',' Robert', 'Chris', 'Scarlett', 'Harry']"
   ]
  },
  {
   "cell_type": "code",
   "execution_count": 10,
   "metadata": {},
   "outputs": [
    {
     "name": "stdout",
     "output_type": "stream",
     "text": [
      "[('Jack', 4), (' Robert', 7), ('Chris', 5), ('Scarlett', 8), ('Harry', 5)]\n"
     ]
    }
   ],
   "source": [
    "list_tuples = []\n",
    "\n",
    "for friend in friends:\n",
    "    list_tuples.append((friend, len(friend)))\n",
    "print(list_tuples)"
   ]
  },
  {
   "cell_type": "code",
   "execution_count": null,
   "metadata": {},
   "outputs": [],
   "source": []
  },
  {
   "cell_type": "markdown",
   "metadata": {
    "id": "RlbkDRinIQU6"
   },
   "source": [
    "### 2.  You and your wife argued upon expenses last night. You both want to know who is spending more in a month. Now you both go to the Little Yoda he is a good python programmer, he suggested both of you to add an entry in a dictionary when next time you spent money. So that you can have clear picture about your expenses and plan to reduce it. Both dictionaries are as below-\n",
    "Your expenses - \n",
    "\n",
    "* Clothes - 1100\n",
    "* Shoes - 1000\n",
    "* Watch - 900\n",
    "* Mobile Recharge - 699\n",
    "* Petrol - 1980\n",
    "\n",
    "Your Wife’s expenses - \n",
    "* Mobile Recharge - 799\n",
    "* DTH recharge - 999\n",
    "* Clothes - 2310\n",
    "* Makeup - 3670\n",
    "* Shoes - 999\n",
    "\n",
    "A) Find out total expenses of each of you.\\\n",
    "B) Find out who spending more\\\n",
    "C) Find out in which thing you and your wife spending more \n",
    " \n"
   ]
  },
  {
   "cell_type": "code",
   "execution_count": 12,
   "metadata": {},
   "outputs": [
    {
     "name": "stdout",
     "output_type": "stream",
     "text": [
      "{'Clothes': 1100, 'Shoes': 1000, 'Watch': 900, 'Mobile Recharge': 699, 'Petrol': 1980}\n"
     ]
    }
   ],
   "source": [
    "your_expenses = {\n",
    "    \"Clothes\": 1100,\n",
    "    \"Shoes\": 1000,\n",
    "    \"Watch\": 900,\n",
    "    \"Mobile Recharge\": 699,\n",
    "    \"Petrol\": 1980\n",
    "}\n",
    "\n",
    "print(your_expenses)"
   ]
  },
  {
   "cell_type": "code",
   "execution_count": 13,
   "metadata": {},
   "outputs": [
    {
     "name": "stdout",
     "output_type": "stream",
     "text": [
      "{'Mobile Recharge': 799, 'DTH Recharge': 999, 'Clothes': 2310, 'Makeup': 3670, 'Shoes': 999}\n"
     ]
    }
   ],
   "source": [
    "wife_expenses = {\n",
    "    \"Mobile Recharge\": 799,\n",
    "    \"DTH Recharge\": 999,\n",
    "    \"Clothes\": 2310,\n",
    "    \"Makeup\": 3670,\n",
    "    \"Shoes\": 999\n",
    "}\n",
    "\n",
    "print(wife_expenses)\n"
   ]
  },
  {
   "cell_type": "code",
   "execution_count": 17,
   "metadata": {},
   "outputs": [
    {
     "name": "stdout",
     "output_type": "stream",
     "text": [
      "Your total expense: 5679\n"
     ]
    }
   ],
   "source": [
    "your_total_expenses = your_expenses.values()\n",
    "print(f'Your total expense: {sum(your_total_expenses)}')"
   ]
  },
  {
   "cell_type": "code",
   "execution_count": 20,
   "metadata": {},
   "outputs": [
    {
     "name": "stdout",
     "output_type": "stream",
     "text": [
      "Your wife expense: 8777\n"
     ]
    }
   ],
   "source": [
    "wife_total_expenses = wife_expenses.values()\n",
    "print(f'Your wife expense: {sum(wife_total_expenses)}')"
   ]
  },
  {
   "cell_type": "markdown",
   "metadata": {},
   "source": [
    "### Your wife is spending more than you :)"
   ]
  },
  {
   "cell_type": "code",
   "execution_count": 38,
   "metadata": {},
   "outputs": [],
   "source": [
    "your_expensive_item_key = sorted(your_expenses.values())[-1]\n",
    "wife_expensive_item_key = sorted(wife_expenses.values())[-1]"
   ]
  },
  {
   "cell_type": "code",
   "execution_count": 39,
   "metadata": {},
   "outputs": [],
   "source": [
    "def find_expensive_item(expense_list, most_expensive_item_key):\n",
    "    for key, value in expense_list.items():\n",
    "        if value == most_expensive_item_key:\n",
    "            print(f'The most expensive item bought is {key}')"
   ]
  },
  {
   "cell_type": "code",
   "execution_count": 40,
   "metadata": {},
   "outputs": [
    {
     "name": "stdout",
     "output_type": "stream",
     "text": [
      "The most expensive item bought is Petrol\n"
     ]
    }
   ],
   "source": [
    "find_expensive_item(your_expenses, your_expensive_item_key)"
   ]
  },
  {
   "cell_type": "code",
   "execution_count": 41,
   "metadata": {},
   "outputs": [
    {
     "name": "stdout",
     "output_type": "stream",
     "text": [
      "The most expensive item bought is Makeup\n"
     ]
    }
   ],
   "source": [
    "find_expensive_item(wife_expenses, wife_expensive_item_key)"
   ]
  },
  {
   "cell_type": "markdown",
   "metadata": {
    "id": "Nmy47co1P7w_"
   },
   "source": [
    "#### Little Yoda's Words:\n",
    "\n",
    "Looks like you love **travelling** and your wife loves **Make-up**. Because Both of you are spending more on *Petrol* and *Make Up*\n",
    "\n",
    "You need to do less spending in these two"
   ]
  },
  {
   "cell_type": "markdown",
   "metadata": {
    "id": "QRn5YOKUP5-p"
   },
   "source": [
    "### Additional"
   ]
  },
  {
   "cell_type": "code",
   "execution_count": 43,
   "metadata": {},
   "outputs": [],
   "source": [
    "my_expenses = dict()\n",
    "wife_expenses = dict()"
   ]
  },
  {
   "cell_type": "code",
   "execution_count": 44,
   "metadata": {},
   "outputs": [],
   "source": [
    "# adding data to the dictionaries\n",
    "my_expenses['Clothes'] = 100\n",
    "my_expenses['Shoes'] = 1000\n",
    "my_expenses['Watch'] = 900\n",
    "my_expenses['Mobile Recharge'] = 699\n",
    "my_expenses['Petrol'] = 1980"
   ]
  },
  {
   "cell_type": "code",
   "execution_count": 45,
   "metadata": {},
   "outputs": [],
   "source": [
    "wife_expenses.update({\n",
    "    \"Mobile Recharge\" : 799,\n",
    "    \"DTH recharge\" : 999,\n",
    "    \"Clothes\" : 2310,\n",
    "    \"Makeup\" : 3670,\n",
    "    \"Shoes\" : 999\n",
    "})"
   ]
  },
  {
   "cell_type": "code",
   "execution_count": 46,
   "metadata": {},
   "outputs": [],
   "source": [
    "# c. finding expensive thing\n",
    "# If we can sort the dictionary in increasing order or decreasing order\n",
    "# we can find it easily\n",
    "\n",
    "def sort_the_dict(dictionary):\n",
    "    # because we need to sord the dictionary according to the values\n",
    "    sorted_dict = sorted(dictionary.items(), key=lambda kv:kv[1])\n",
    "    \n",
    "    return sorted_dict                                            "
   ]
  },
  {
   "cell_type": "code",
   "execution_count": 47,
   "metadata": {},
   "outputs": [
    {
     "data": {
      "text/plain": [
       "[('Clothes', 100),\n",
       " ('Mobile Recharge', 699),\n",
       " ('Watch', 900),\n",
       " ('Shoes', 1000),\n",
       " ('Petrol', 1980)]"
      ]
     },
     "execution_count": 47,
     "metadata": {},
     "output_type": "execute_result"
    }
   ],
   "source": [
    "sort_the_dict(my_expenses)"
   ]
  },
  {
   "cell_type": "code",
   "execution_count": 48,
   "metadata": {},
   "outputs": [
    {
     "data": {
      "text/plain": [
       "[('Mobile Recharge', 799),\n",
       " ('DTH recharge', 999),\n",
       " ('Shoes', 999),\n",
       " ('Clothes', 2310),\n",
       " ('Makeup', 3670)]"
      ]
     },
     "execution_count": 48,
     "metadata": {},
     "output_type": "execute_result"
    }
   ],
   "source": [
    "sort_the_dict(wife_expenses)"
   ]
  },
  {
   "cell_type": "code",
   "execution_count": 49,
   "metadata": {},
   "outputs": [
    {
     "name": "stdout",
     "output_type": "stream",
     "text": [
      "You spent more on: \n"
     ]
    },
    {
     "data": {
      "text/plain": [
       "('Petrol', 1980)"
      ]
     },
     "execution_count": 49,
     "metadata": {},
     "output_type": "execute_result"
    }
   ],
   "source": [
    "print(\"You spent more on: \")\n",
    "sort_the_dict(my_expenses)[-1]"
   ]
  },
  {
   "cell_type": "code",
   "execution_count": 51,
   "metadata": {},
   "outputs": [
    {
     "name": "stdout",
     "output_type": "stream",
     "text": [
      "Your wife spent more on: \n"
     ]
    },
    {
     "data": {
      "text/plain": [
       "('Makeup', 3670)"
      ]
     },
     "execution_count": 51,
     "metadata": {},
     "output_type": "execute_result"
    }
   ],
   "source": [
    "print(\"Your wife spent more on: \")\n",
    "sort_the_dict(wife_expenses)[-1]"
   ]
  },
  {
   "cell_type": "markdown",
   "metadata": {
    "id": "R9mNy_U_QkGP"
   },
   "source": [
    "Thank You,\n",
    "\n",
    "Happy Coding!"
   ]
  },
  {
   "cell_type": "code",
   "execution_count": null,
   "metadata": {
    "id": "0EIRlB_AQoIV"
   },
   "outputs": [],
   "source": []
  }
 ],
 "metadata": {
  "colab": {
   "collapsed_sections": [],
   "name": "9_dict_tuple.ipynb",
   "provenance": []
  },
  "kernelspec": {
   "display_name": "Python 3 (ipykernel)",
   "language": "python",
   "name": "python3"
  },
  "language_info": {
   "codemirror_mode": {
    "name": "ipython",
    "version": 3
   },
   "file_extension": ".py",
   "mimetype": "text/x-python",
   "name": "python",
   "nbconvert_exporter": "python",
   "pygments_lexer": "ipython3",
   "version": "3.10.11"
  }
 },
 "nbformat": 4,
 "nbformat_minor": 4
}

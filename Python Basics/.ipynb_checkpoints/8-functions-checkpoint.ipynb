{
 "cells": [
  {
   "cell_type": "markdown",
   "metadata": {
    "id": "yoyotujl69UP"
   },
   "source": [
    "# 8 Functions\n",
    "\n",
    "Excercise Solution"
   ]
  },
  {
   "cell_type": "markdown",
   "metadata": {
    "id": "rQvL5Nm47FLO"
   },
   "source": [
    "### 1. Write a python function to check if any given number is prime number and odd number?"
   ]
  },
  {
   "cell_type": "code",
   "execution_count": 49,
   "metadata": {},
   "outputs": [],
   "source": [
    "def check_odd(n):\n",
    "    return n % 2 != 0\n",
    "\n",
    "def check_prime(n):\n",
    "    if n <= 1:\n",
    "        return False\n",
    "    for i in range(2, int(n**0.5) + 1):\n",
    "        if n % i == 0:\n",
    "            return False\n",
    "    return True\n",
    "\n",
    "def checkprime_and_odd(num):\n",
    "    if check_odd(num) and check_prime(num):\n",
    "        print(f'{num} is an odd and prime number')\n",
    "    else:\n",
    "        print(f'{num} is not a odd and prime number')"
   ]
  },
  {
   "cell_type": "code",
   "execution_count": 50,
   "metadata": {},
   "outputs": [
    {
     "name": "stdout",
     "output_type": "stream",
     "text": [
      "7 is an odd and prime number\n"
     ]
    }
   ],
   "source": [
    "checkprime_and_odd(7)"
   ]
  },
  {
   "cell_type": "markdown",
   "metadata": {
    "id": "5VDf0umw9PVu"
   },
   "source": [
    "### 2. Write a python function which will take n as input and print the pattern of n rows. If the n is even, then print it flipped.\n",
    "\n",
    "Example: n=3\n",
    "        \n",
    "        *\n",
    "        * *\n",
    "        * * *\n",
    "\n",
    "n=4\n",
    "\n",
    "        * * * *\n",
    "        * * *\n",
    "        * *\n",
    "        *"
   ]
  },
  {
   "cell_type": "code",
   "execution_count": 90,
   "metadata": {},
   "outputs": [],
   "source": [
    "def print_pattern(n):\n",
    "    if check_odd(n):\n",
    "        for i in range(0, n + 1):\n",
    "            for j in range(1, i + 1):\n",
    "                print('*', end=' ')\n",
    "                j=-1\n",
    "            print()\n",
    "    else:\n",
    "        for i in range(n, 0, -1):\n",
    "            for j in range(0, i):\n",
    "                print('*', end=' ')\n",
    "                j=+1\n",
    "            print()"
   ]
  },
  {
   "cell_type": "code",
   "execution_count": 91,
   "metadata": {},
   "outputs": [
    {
     "name": "stdout",
     "output_type": "stream",
     "text": [
      "* * * * \n",
      "* * * \n",
      "* * \n",
      "* \n"
     ]
    }
   ],
   "source": [
    "print_pattern(4)"
   ]
  },
  {
   "cell_type": "code",
   "execution_count": 92,
   "metadata": {},
   "outputs": [
    {
     "name": "stdout",
     "output_type": "stream",
     "text": [
      "\n",
      "* \n",
      "* * \n",
      "* * * \n"
     ]
    }
   ],
   "source": [
    "print_pattern(3)"
   ]
  },
  {
   "cell_type": "markdown",
   "metadata": {
    "id": "ZgDoTYOU_KgH"
   },
   "source": [
    "### 3. Master Yoda speaks a sentence in a different order. Let's say you want to convert a sentence to Yoda’s speak.  Write a function named master_yoda which will take a string as input and return the output after reversing the words of the sentence."
   ]
  },
  {
   "cell_type": "code",
   "execution_count": 130,
   "metadata": {},
   "outputs": [],
   "source": [
    "def master_yoda(str):\n",
    "   return  ' '.join(str.split()[::-1])"
   ]
  },
  {
   "cell_type": "code",
   "execution_count": 131,
   "metadata": {},
   "outputs": [
    {
     "data": {
      "text/plain": [
       "'Jahangir is name My'"
      ]
     },
     "execution_count": 131,
     "metadata": {},
     "output_type": "execute_result"
    }
   ],
   "source": [
    "master_yoda(\"My name is Jahangir\")"
   ]
  },
  {
   "cell_type": "code",
   "execution_count": 132,
   "metadata": {},
   "outputs": [],
   "source": [
    "def master_yoda(sentance):\n",
    "    # creating list of words\n",
    "    words = []\n",
    "    for word in sentance.split(' '):\n",
    "        words.append(word)\n",
    "    \n",
    "    terminator = \"\"\n",
    "    # If the sentance ends with a dot(.) we need to extract that \n",
    "    if words[-1].endswith('.') or words[-1].endswith('?'):\n",
    "        terminator = words[-1][-1]\n",
    "        words[-1] = words[-1][:-1]\n",
    "\n",
    "    # reversing the words\n",
    "    words.reverse()\n",
    "\n",
    "    # recreating the sentance with reversed words\n",
    "    new_sentance = \" \".join(words)\n",
    "    new_sentance = new_sentance + terminator\n",
    "    return new_sentance"
   ]
  },
  {
   "cell_type": "code",
   "execution_count": 133,
   "metadata": {},
   "outputs": [
    {
     "data": {
      "text/plain": [
       "'Python learning am I.'"
      ]
     },
     "execution_count": 133,
     "metadata": {},
     "output_type": "execute_result"
    }
   ],
   "source": [
    "master_yoda(\"I am learning Python.\")"
   ]
  },
  {
   "cell_type": "markdown",
   "metadata": {
    "id": "FTsAnmvuB7FN"
   },
   "source": [
    "### 4. Write a function pay_bill which will take list of expenses, percent commission, and a special offer amount\n",
    "* If you don’t pass percent_comission it should be always 9.8%\n",
    "* The Last argument special_offer_amount is not a required argument, you don’t need to pass is. Make it an optional parameter.\n",
    "* If you want to give a special offer to the user, then you have to pass the third argument special_offer_amount. If user makes the purchase of greater than special_offer_amount, then give him extra  commission of 1.2%.\n",
    "* Calculate the final payable price of the bill and return it from the function.\n"
   ]
  },
  {
   "cell_type": "code",
   "execution_count": null,
   "metadata": {},
   "outputs": [],
   "source": []
  },
  {
   "cell_type": "code",
   "execution_count": null,
   "metadata": {
    "id": "pvN2aAzuGsDM"
   },
   "outputs": [],
   "source": []
  },
  {
   "cell_type": "markdown",
   "metadata": {
    "id": "YSg0KwBrG2NP"
   },
   "source": [
    "Thank You,\n",
    "\n",
    "Happy Coding!"
   ]
  },
  {
   "cell_type": "code",
   "execution_count": null,
   "metadata": {
    "id": "tfoDOAfKG5BK"
   },
   "outputs": [],
   "source": []
  }
 ],
 "metadata": {
  "colab": {
   "collapsed_sections": [],
   "name": "8_functions.ipynb",
   "provenance": []
  },
  "kernelspec": {
   "display_name": "Python 3 (ipykernel)",
   "language": "python",
   "name": "python3"
  },
  "language_info": {
   "codemirror_mode": {
    "name": "ipython",
    "version": 3
   },
   "file_extension": ".py",
   "mimetype": "text/x-python",
   "name": "python",
   "nbconvert_exporter": "python",
   "pygments_lexer": "ipython3",
   "version": "3.10.11"
  }
 },
 "nbformat": 4,
 "nbformat_minor": 4
}

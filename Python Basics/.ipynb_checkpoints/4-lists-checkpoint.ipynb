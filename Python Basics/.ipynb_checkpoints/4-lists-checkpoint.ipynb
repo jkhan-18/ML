{
 "cells": [
  {
   "cell_type": "markdown",
   "metadata": {
    "id": "l4ZebagWpr-X"
   },
   "source": [
    "# 4 Lists\n",
    "\n",
    "Exercise 4 solutions"
   ]
  },
  {
   "cell_type": "markdown",
   "metadata": {
    "id": "NDm5nrA0p1GL"
   },
   "source": [
    "1. You are a Marvel fan and created a list of superheroes.\n",
    "\n",
    "```py\n",
    "avengers  = [‘Iron Man’, ‘Captain America’, ‘Black Widow’, ‘Hulk’, ‘Thor’, ‘Hawkeye’]\n",
    "```\n",
    "\n",
    "Using this list, do the following:\n",
    "\n",
    "i. Calculate how many members in the Avengers team?\\\n",
    "ii. Iron Man made Spider-Man a new member of the Avengers, add him to your list.\\\n",
    "iii. Captain America is the leader of the Avengers, you need to add him before the Iron Man, so remove him from the list and add before the Iron Man.\\\n",
    "iv. You don’t like Thor and Hulk together because they got angry easily and fight with each other. So you have to separate them with each other. To separate them, either move “Black Widow” or “Hawkeye” in between them.\\\n",
    "v. After Avengers: End Game the original six avengers are retired, now you need to remove them from your list and add new superheroes like Doctor Strange, Vision, Wanda, Kate Bishop and Ant-Man.\\\n",
    "vi. As “Captain America” is also retired and now currently, no one is leader, so sort the list in alphabetical order. Whoever will come at 0th index will become the Leader. (BONUS: can you guess who will become the leader)\n",
    "\n"
   ]
  },
  {
   "cell_type": "code",
   "execution_count": 1,
   "metadata": {},
   "outputs": [
    {
     "data": {
      "text/plain": [
       "['Iron Man', 'Captain America', 'Black Widow', 'Hulk', 'Thor', 'Hawkeye']"
      ]
     },
     "execution_count": 1,
     "metadata": {},
     "output_type": "execute_result"
    }
   ],
   "source": [
    "avengers  = [\"Iron Man\", \"Captain America\", \"Black Widow\", \"Hulk\", \"Thor\", \"Hawkeye\"]\n",
    "avengers"
   ]
  },
  {
   "cell_type": "markdown",
   "metadata": {
    "id": "o4-cwl7bq3WR"
   },
   "source": [
    "### Calculating the total members\n",
    "\n",
    "we can use the len() to calculate the total items in the list"
   ]
  },
  {
   "cell_type": "code",
   "execution_count": 2,
   "metadata": {},
   "outputs": [
    {
     "name": "stdout",
     "output_type": "stream",
     "text": [
      "Total members in the Avengers team is 6\n"
     ]
    }
   ],
   "source": [
    "print('Total members in the Avengers team is',len(avengers))"
   ]
  },
  {
   "cell_type": "markdown",
   "metadata": {
    "id": "Uvv10gM4rMvR"
   },
   "source": [
    "### Adding spiderman to the team\n",
    "\n",
    "We can use .append() to add item to the list"
   ]
  },
  {
   "cell_type": "code",
   "execution_count": 3,
   "metadata": {},
   "outputs": [
    {
     "data": {
      "text/plain": [
       "['Iron Man',\n",
       " 'Captain America',\n",
       " 'Black Widow',\n",
       " 'Hulk',\n",
       " 'Thor',\n",
       " 'Hawkeye',\n",
       " 'Spider-Man']"
      ]
     },
     "execution_count": 3,
     "metadata": {},
     "output_type": "execute_result"
    }
   ],
   "source": [
    "avengers.append('Spider-Man')\n",
    "avengers"
   ]
  },
  {
   "cell_type": "markdown",
   "metadata": {
    "id": "67XatIzMrkk1"
   },
   "source": [
    "### Moving Captain America to the first position\n",
    "\n",
    "First remove Captain from 1st index: \n",
    "We can use .pop() to remove from the given index"
   ]
  },
  {
   "cell_type": "markdown",
   "metadata": {
    "id": "uDQsm2PssVgA"
   },
   "source": [
    "Because we need to insert him later so store this in a variable called `captain_america`"
   ]
  },
  {
   "cell_type": "markdown",
   "metadata": {
    "id": "OkDPPQOgsgm6"
   },
   "source": [
    "Now Add him to the 0th index using .insert()"
   ]
  },
  {
   "cell_type": "code",
   "execution_count": 4,
   "metadata": {
    "colab": {
     "base_uri": "https://localhost:8080/"
    },
    "id": "G45j--kJsB1O",
    "outputId": "4834f115-7149-46e1-e624-d1c37ec7df3c"
   },
   "outputs": [
    {
     "data": {
      "text/plain": [
       "['Iron Man', 'Black Widow', 'Hulk', 'Thor', 'Hawkeye', 'Spider-Man']"
      ]
     },
     "execution_count": 4,
     "metadata": {},
     "output_type": "execute_result"
    }
   ],
   "source": [
    "avengers.pop(1)\n",
    "avengers"
   ]
  },
  {
   "cell_type": "code",
   "execution_count": 5,
   "metadata": {},
   "outputs": [
    {
     "data": {
      "text/plain": [
       "['Captain America',\n",
       " 'Iron Man',\n",
       " 'Black Widow',\n",
       " 'Hulk',\n",
       " 'Thor',\n",
       " 'Hawkeye',\n",
       " 'Spider-Man']"
      ]
     },
     "execution_count": 5,
     "metadata": {},
     "output_type": "execute_result"
    }
   ],
   "source": [
    "avengers.insert(0, 'Captain America')\n",
    "avengers"
   ]
  },
  {
   "cell_type": "markdown",
   "metadata": {
    "id": "H48z6T-Ysr3D"
   },
   "source": [
    "### Separating Thor and Hulk\n",
    "\n",
    "To seprate them we can move Black Window to in between them"
   ]
  },
  {
   "cell_type": "code",
   "execution_count": 6,
   "metadata": {},
   "outputs": [
    {
     "data": {
      "text/plain": [
       "['Captain America', 'Iron Man', 'Hulk', 'Thor', 'Hawkeye', 'Spider-Man']"
      ]
     },
     "execution_count": 6,
     "metadata": {},
     "output_type": "execute_result"
    }
   ],
   "source": [
    "avengers.remove('Black Widow')\n",
    "avengers"
   ]
  },
  {
   "cell_type": "code",
   "execution_count": 7,
   "metadata": {},
   "outputs": [
    {
     "data": {
      "text/plain": [
       "['Captain America',\n",
       " 'Iron Man',\n",
       " 'Hulk',\n",
       " 'Black Widow',\n",
       " 'Thor',\n",
       " 'Hawkeye',\n",
       " 'Spider-Man']"
      ]
     },
     "execution_count": 7,
     "metadata": {},
     "output_type": "execute_result"
    }
   ],
   "source": [
    "avengers.insert(3, 'Black Widow')\n",
    "avengers"
   ]
  },
  {
   "cell_type": "markdown",
   "metadata": {
    "id": "hVBv7Zv1uKiA"
   },
   "source": [
    "### Replacing the team with new heros\n",
    "\n",
    "First remove the retired heroes"
   ]
  },
  {
   "cell_type": "code",
   "execution_count": 12,
   "metadata": {},
   "outputs": [
    {
     "data": {
      "text/plain": [
       "['Doctor Strange', 'Vision', 'Wanda', 'Kate Bishop', 'Ant-Man']"
      ]
     },
     "execution_count": 12,
     "metadata": {},
     "output_type": "execute_result"
    }
   ],
   "source": [
    "avengers.clear()\n",
    "avengers = avengers + ['Doctor Strange', 'Vision', 'Wanda', 'Kate Bishop', 'Ant-Man']\n",
    "avengers"
   ]
  },
  {
   "cell_type": "code",
   "execution_count": 14,
   "metadata": {},
   "outputs": [
    {
     "data": {
      "text/plain": [
       "['Doctor Strange', 'Vision', 'Wanda', 'Kate Bishop', 'Ant-Man']"
      ]
     },
     "execution_count": 14,
     "metadata": {},
     "output_type": "execute_result"
    }
   ],
   "source": [
    "avengers.clear()\n",
    "avengers.extend(['Doctor Strange', 'Vision', 'Wanda', 'Kate Bishop', 'Ant-Man'])\n",
    "avengers"
   ]
  },
  {
   "cell_type": "markdown",
   "metadata": {
    "id": "79nWe92GwP_Z"
   },
   "source": [
    "### Finding new leader of the team\n",
    "\n",
    "sorting the list in alphabetical order"
   ]
  },
  {
   "cell_type": "markdown",
   "metadata": {
    "id": "rVqPPP6Zwd-K"
   },
   "source": [
    "As 'Ant Man' comes at the 0th index He is the new Leader of the Avengers. "
   ]
  },
  {
   "cell_type": "code",
   "execution_count": 16,
   "metadata": {
    "id": "xwv4vx0kwbiu"
   },
   "outputs": [
    {
     "data": {
      "text/plain": [
       "['Ant-Man', 'Doctor Strange', 'Kate Bishop', 'Vision', 'Wanda']"
      ]
     },
     "execution_count": 16,
     "metadata": {},
     "output_type": "execute_result"
    }
   ],
   "source": [
    "avengers.sort()\n",
    "avengers"
   ]
  },
  {
   "cell_type": "code",
   "execution_count": 19,
   "metadata": {},
   "outputs": [
    {
     "name": "stdout",
     "output_type": "stream",
     "text": [
      "The new leader is Ant-Man\n"
     ]
    }
   ],
   "source": [
    "print('The new leader is {}'.format(avengers[0]))"
   ]
  },
  {
   "cell_type": "markdown",
   "metadata": {
    "id": "bjzMR1aBwqMV"
   },
   "source": [
    "Thank You,\n",
    "\n",
    "Happy Coding!"
   ]
  },
  {
   "cell_type": "code",
   "execution_count": null,
   "metadata": {
    "id": "1tKUG2_UwtTp"
   },
   "outputs": [],
   "source": []
  }
 ],
 "metadata": {
  "colab": {
   "collapsed_sections": [],
   "name": "4_lists.ipynb",
   "provenance": []
  },
  "kernelspec": {
   "display_name": "Python 3 (ipykernel)",
   "language": "python",
   "name": "python3"
  },
  "language_info": {
   "codemirror_mode": {
    "name": "ipython",
    "version": 3
   },
   "file_extension": ".py",
   "mimetype": "text/x-python",
   "name": "python",
   "nbconvert_exporter": "python",
   "pygments_lexer": "ipython3",
   "version": "3.10.11"
  }
 },
 "nbformat": 4,
 "nbformat_minor": 4
}

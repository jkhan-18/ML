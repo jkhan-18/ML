{
 "cells": [
  {
   "cell_type": "markdown",
   "metadata": {
    "id": "uEZKj1_buw2E"
   },
   "source": [
    "# 2 Numbers\n",
    "\n",
    "Solution of excercise 2"
   ]
  },
  {
   "cell_type": "markdown",
   "metadata": {
    "id": "i0acUhwdu3_c"
   },
   "source": [
    "1. Remember the format() function we have used in the last video?? Now pass 145 and ‘o’ in the function and see what it returned. Try to find out which representation it is.\n"
   ]
  },
  {
   "cell_type": "code",
   "execution_count": 2,
   "metadata": {},
   "outputs": [
    {
     "data": {
      "text/plain": [
       "'221'"
      ]
     },
     "execution_count": 2,
     "metadata": {},
     "output_type": "execute_result"
    }
   ],
   "source": [
    "format(145, 'o')"
   ]
  },
  {
   "cell_type": "markdown",
   "metadata": {},
   "source": [
    "In Python, the format() function can be used to format numbers in different ways based on the format specifier you provide.\n",
    "\n",
    "When you see format(145, 'o'), it means you're formatting the number 145 to its octal representation."
   ]
  },
  {
   "cell_type": "markdown",
   "metadata": {
    "id": "N9KmgUDCwDpO"
   },
   "source": [
    "2. There is a circular pond in a village. This pond has a radius of 84meter. Can you find the area of the pond? (Bonus: If there is exactly 1.4 liter of water in a square meter, what is the total amount of the water in the pond?)\n",
    "\n",
    "    Hint:   \n",
    "`Circle Area = πr2`\n"
   ]
  },
  {
   "cell_type": "code",
   "execution_count": 4,
   "metadata": {},
   "outputs": [
    {
     "name": "stdout",
     "output_type": "stream",
     "text": [
      "Area of the pond:  22176.0\n"
     ]
    }
   ],
   "source": [
    "radius = 84\n",
    "Area  = (22/7)*radius**2\n",
    "print('Area of the pond: ', Area)"
   ]
  },
  {
   "cell_type": "code",
   "execution_count": 6,
   "metadata": {},
   "outputs": [
    {
     "name": "stdout",
     "output_type": "stream",
     "text": [
      "Total amount of water:  31046.399999999998\n"
     ]
    }
   ],
   "source": [
    "total_amount_of_water = Area*1.4\n",
    "print('Total amount of water: ', total_amount_of_water)"
   ]
  },
  {
   "cell_type": "markdown",
   "metadata": {
    "id": "wWC4QNX2ybca"
   },
   "source": [
    "3. \n",
    "If you cross a 490-meter-long street in 7 minutes, then what is your speed in meter per seconds. Print your answer without any decimal point in it.\n",
    "        Hint:\n",
    "        Speed = Distance / Time\n"
   ]
  },
  {
   "cell_type": "code",
   "execution_count": 10,
   "metadata": {
    "id": "MGkL8Tss0GZo"
   },
   "outputs": [
    {
     "name": "stdout",
     "output_type": "stream",
     "text": [
      "Speed in m/s:  1\n"
     ]
    }
   ],
   "source": [
    "distance  = 490\n",
    "time = 7*60\n",
    "speed = distance/time\n",
    "print('Speed in m/s: ', round(speed))"
   ]
  },
  {
   "cell_type": "markdown",
   "metadata": {
    "id": "cI2DT1Ry0Iqf"
   },
   "source": [
    "Thank you,\n",
    "\n",
    "Happy Coding!"
   ]
  },
  {
   "cell_type": "code",
   "execution_count": null,
   "metadata": {
    "id": "LJOhDYCK0L6A"
   },
   "outputs": [],
   "source": []
  }
 ],
 "metadata": {
  "colab": {
   "collapsed_sections": [],
   "name": "2_Numbers.ipynb",
   "provenance": []
  },
  "kernelspec": {
   "display_name": "Python 3 (ipykernel)",
   "language": "python",
   "name": "python3"
  },
  "language_info": {
   "codemirror_mode": {
    "name": "ipython",
    "version": 3
   },
   "file_extension": ".py",
   "mimetype": "text/x-python",
   "name": "python",
   "nbconvert_exporter": "python",
   "pygments_lexer": "ipython3",
   "version": "3.10.11"
  }
 },
 "nbformat": 4,
 "nbformat_minor": 4
}

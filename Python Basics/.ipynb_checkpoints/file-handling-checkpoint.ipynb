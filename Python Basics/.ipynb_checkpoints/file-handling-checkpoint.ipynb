{
 "cells": [
  {
   "cell_type": "markdown",
   "id": "ae858b8f",
   "metadata": {},
   "source": [
    "# File Handling Exercise\n",
    "\n",
    "Solution"
   ]
  },
  {
   "cell_type": "markdown",
   "id": "20703606",
   "metadata": {},
   "source": [
    "### 1. student_marks.csv contains the marks and other details for some students. Write a python program to:\n",
    "- Download the Data From (https://www.kaggle.com/arunkumar413/student-marks)\n",
    "- Open the csv file in read mode\n",
    "- Create dictionary from the given data by doing some processing for keys and values\n",
    "- Add a new field to the dictionary `total_marks` and store total marks of the students.\n",
    "- Add new field to the dictionary `Average` and store average marks of the students\n",
    "- with the final Dictionary create a new file \"output.csv\" and write this information to the this file\n",
    "\t"
   ]
  },
  {
   "cell_type": "code",
   "execution_count": 84,
   "id": "d64f7153",
   "metadata": {},
   "outputs": [
    {
     "name": "stdout",
     "output_type": "stream",
     "text": [
      "['', 'Gender', 'DOB', 'Maths', 'Physics', 'Chemistry', 'English', 'Biology', 'Economics', 'History', 'Civics']\n"
     ]
    }
   ],
   "source": [
    "f = open('student_marks.csv', 'r')\n",
    "#f.read()\n",
    "\n",
    "header = f.readline().split(',')\n",
    "header[-1] = header[-1][:-1]\n",
    "print(header)"
   ]
  },
  {
   "cell_type": "code",
   "execution_count": 85,
   "id": "5d6d3a10-d4b0-4637-928a-506a679c4245",
   "metadata": {},
   "outputs": [
    {
     "name": "stdout",
     "output_type": "stream",
     "text": [
      "{'': [], 'Gender': [], 'DOB': [], 'Maths': [], 'Physics': [], 'Chemistry': [], 'English': [], 'Biology': [], 'Economics': [], 'History': [], 'Civics': []}\n"
     ]
    }
   ],
   "source": [
    "d = {}\n",
    "\n",
    "for head in header:\n",
    "   d[head] = []\n",
    "print(d)"
   ]
  },
  {
   "cell_type": "code",
   "execution_count": null,
   "id": "b81f452e-3c68-46fa-9fad-eb5ee11846b7",
   "metadata": {},
   "outputs": [],
   "source": []
  },
  {
   "cell_type": "code",
   "execution_count": 86,
   "id": "b92b7b59-5fe9-4aba-8753-f8111a2697a1",
   "metadata": {},
   "outputs": [
    {
     "name": "stdout",
     "output_type": "stream",
     "text": [
      "{'': ['John', 'Suresh', 'Ramesh', 'Jessica', 'Jennifer'], 'Gender': ['M', 'M', 'M', 'F', 'F'], 'DOB': ['05/04/1988', '4/5/1987', '25/5/1989', '12/8/1990', '2/9/1989'], 'Maths': ['55', '75', '25', '78', '58'], 'Physics': ['45', '55', '54', '55', '96'], 'Chemistry': ['56', '', '89', '86', '78'], 'English': ['87', '64', '76', '63', '46'], 'Biology': ['21', '90', '95', '54', '96'], 'Economics': ['52', '61', '87', '89', '77'], 'History': ['89', '58', '56', '75', '83'], 'Civics': ['65', '2', '74', '45', '5']}\n"
     ]
    }
   ],
   "source": [
    "for data in f.readlines():\n",
    "    each_data = data.split(',')\n",
    "    each_data[-1] = each_data[-1][:-1]\n",
    "\n",
    "    j = 0\n",
    "    for key in d:\n",
    "        d[key].append(each_data[j])\n",
    "        j += 1\n",
    "\n",
    "print(d)"
   ]
  },
  {
   "cell_type": "markdown",
   "id": "dd4d0da5",
   "metadata": {},
   "source": [
    "**Task1: calculating the total marks**"
   ]
  },
  {
   "cell_type": "code",
   "execution_count": 87,
   "id": "9107e617",
   "metadata": {},
   "outputs": [
    {
     "name": "stdout",
     "output_type": "stream",
     "text": [
      "{'': ['John', 'Suresh', 'Ramesh', 'Jessica', 'Jennifer'], 'Gender': ['M', 'M', 'M', 'F', 'F'], 'DOB': ['05/04/1988', '4/5/1987', '25/5/1989', '12/8/1990', '2/9/1989'], 'Maths': ['55', '75', '25', '78', '58'], 'Physics': ['45', '55', '54', '55', '96'], 'Chemistry': ['56', '', '89', '86', '78'], 'English': ['87', '64', '76', '63', '46'], 'Biology': ['21', '90', '95', '54', '96'], 'Economics': ['52', '61', '87', '89', '77'], 'History': ['89', '58', '56', '75', '83'], 'Civics': ['65', '2', '74', '45', '5'], 'total_marks': [470, 405, 556, 545, 539]}\n"
     ]
    }
   ],
   "source": [
    "d['total_marks'] = []\n",
    "\n",
    "student_count = len(d[''])\n",
    "#print(student_count)\n",
    "\n",
    "total_marks = []\n",
    "\n",
    "for i in range(student_count):\n",
    "    total = 0\n",
    "    for subject in ['Maths', 'Physics', 'Chemistry', 'English', 'Biology', 'Economics', 'History', 'Civics']:\n",
    "        score = int(d[subject][i]) if d[subject][i] else 0\n",
    "        total += score\n",
    "    total_marks.append(total)\n",
    "\n",
    "d['total_marks'] = total_marks\n",
    "\n",
    "print(d)"
   ]
  },
  {
   "cell_type": "markdown",
   "id": "c836022a",
   "metadata": {},
   "source": [
    "**Task2: calculating the Average marks**"
   ]
  },
  {
   "cell_type": "code",
   "execution_count": 88,
   "id": "8c89251b",
   "metadata": {},
   "outputs": [
    {
     "name": "stdout",
     "output_type": "stream",
     "text": [
      "{'': ['John', 'Suresh', 'Ramesh', 'Jessica', 'Jennifer'], 'Gender': ['M', 'M', 'M', 'F', 'F'], 'DOB': ['05/04/1988', '4/5/1987', '25/5/1989', '12/8/1990', '2/9/1989'], 'Maths': ['55', '75', '25', '78', '58'], 'Physics': ['45', '55', '54', '55', '96'], 'Chemistry': ['56', '', '89', '86', '78'], 'English': ['87', '64', '76', '63', '46'], 'Biology': ['21', '90', '95', '54', '96'], 'Economics': ['52', '61', '87', '89', '77'], 'History': ['89', '58', '56', '75', '83'], 'Civics': ['65', '2', '74', '45', '5'], 'total_marks': [470, 405, 556, 545, 539], 'average': []}\n"
     ]
    }
   ],
   "source": [
    "d['average'] = []\n",
    "print(d)"
   ]
  },
  {
   "cell_type": "code",
   "execution_count": 89,
   "id": "0be90c25",
   "metadata": {},
   "outputs": [
    {
     "name": "stdout",
     "output_type": "stream",
     "text": [
      "58.75\n",
      "50.625\n",
      "69.5\n",
      "68.125\n",
      "67.375\n",
      "{'': ['John', 'Suresh', 'Ramesh', 'Jessica', 'Jennifer'], 'Gender': ['M', 'M', 'M', 'F', 'F'], 'DOB': ['05/04/1988', '4/5/1987', '25/5/1989', '12/8/1990', '2/9/1989'], 'Maths': ['55', '75', '25', '78', '58'], 'Physics': ['45', '55', '54', '55', '96'], 'Chemistry': ['56', '', '89', '86', '78'], 'English': ['87', '64', '76', '63', '46'], 'Biology': ['21', '90', '95', '54', '96'], 'Economics': ['52', '61', '87', '89', '77'], 'History': ['89', '58', '56', '75', '83'], 'Civics': ['65', '2', '74', '45', '5'], 'total_marks': [470, 405, 556, 545, 539], 'average': [58.75, 50.625, 69.5, 68.125, 67.375]}\n"
     ]
    }
   ],
   "source": [
    "total_subjects = (len(list(d.keys())[3:11]))\n",
    "\n",
    "for total in d['total_marks']:\n",
    "    print(total/total_subjects)\n",
    "    d['average'].append(total/total_subjects)\n",
    "\n",
    "print(d)"
   ]
  },
  {
   "cell_type": "markdown",
   "id": "5ddd50b1",
   "metadata": {},
   "source": [
    "**Task3**\n",
    "\n",
    "- Can you create a new CSV file from the above student_marks.csv file? The output file should contain the following all the dictionary data with added new total marks and average marks:"
   ]
  },
  {
   "cell_type": "code",
   "execution_count": null,
   "id": "df5357b8",
   "metadata": {},
   "outputs": [],
   "source": []
  },
  {
   "cell_type": "code",
   "execution_count": null,
   "id": "15cd4075",
   "metadata": {},
   "outputs": [],
   "source": []
  },
  {
   "cell_type": "code",
   "execution_count": null,
   "id": "4607bc67",
   "metadata": {},
   "outputs": [],
   "source": []
  }
 ],
 "metadata": {
  "kernelspec": {
   "display_name": "Python 3 (ipykernel)",
   "language": "python",
   "name": "python3"
  },
  "language_info": {
   "codemirror_mode": {
    "name": "ipython",
    "version": 3
   },
   "file_extension": ".py",
   "mimetype": "text/x-python",
   "name": "python",
   "nbconvert_exporter": "python",
   "pygments_lexer": "ipython3",
   "version": "3.10.11"
  }
 },
 "nbformat": 4,
 "nbformat_minor": 5
}

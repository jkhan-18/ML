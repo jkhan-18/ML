{
 "cells": [
  {
   "cell_type": "markdown",
   "metadata": {
    "id": "-xmQaMgJH9De"
   },
   "source": [
    "# 7 For Loops\n",
    "\n",
    "Solutions"
   ]
  },
  {
   "cell_type": "markdown",
   "metadata": {
    "id": "SfunnaR8IG-c"
   },
   "source": [
    "1. Write a Python program to print the following pattern.\n",
    "\n",
    "        1 2 3 4 5\n",
    "        1 2 3 4 \n",
    "        1 2 3\n",
    "        1 2\n",
    "        1\n"
   ]
  },
  {
   "cell_type": "code",
   "execution_count": 13,
   "metadata": {},
   "outputs": [],
   "source": [
    "no_of_rows = 6"
   ]
  },
  {
   "cell_type": "code",
   "execution_count": 29,
   "metadata": {},
   "outputs": [
    {
     "name": "stdout",
     "output_type": "stream",
     "text": [
      "1 2 3 4 5 \n",
      "1 2 3 4 \n",
      "1 2 3 \n",
      "1 2 \n",
      "1 \n"
     ]
    }
   ],
   "source": [
    "for i in range(no_of_rows, 1, -1):\n",
    "    for j in range(1, i):\n",
    "        print(j, end=' ')\n",
    "        j=+1\n",
    "    print()"
   ]
  },
  {
   "cell_type": "markdown",
   "metadata": {
    "id": "2UU9vxtGK3H5"
   },
   "source": [
    "2. Write a Python program to find the sum of all the numbers except odd numbers between 1 to 20 using a loop. Can you also do this using a while loop?"
   ]
  },
  {
   "cell_type": "code",
   "execution_count": 33,
   "metadata": {},
   "outputs": [
    {
     "name": "stdout",
     "output_type": "stream",
     "text": [
      "110\n"
     ]
    }
   ],
   "source": [
    "sum = 0\n",
    "for i in  range(1, 21):\n",
    "    if i % 2 == 0:\n",
    "        sum+=i\n",
    "print(sum)"
   ]
  },
  {
   "cell_type": "code",
   "execution_count": 38,
   "metadata": {},
   "outputs": [
    {
     "name": "stdout",
     "output_type": "stream",
     "text": [
      "110\n"
     ]
    }
   ],
   "source": [
    "i = 1\n",
    "sum = 0\n",
    "while i <= 20:\n",
    "    if i % 2 == 0:\n",
    "        sum += i\n",
    "    i+=1\n",
    "print(sum)"
   ]
  },
  {
   "cell_type": "markdown",
   "metadata": {
    "id": "AjtT4pnCMfV8"
   },
   "source": [
    "### 3. After throwing the dice several times, you got this result,\n",
    "\tdice_result  = [5,6,4,2,5,4,4,5,3,3,2,6,1,2,1,1,6,5]\n",
    "\n",
    "Using a for loop find out the followings:\n",
    "\n",
    "+ How many times you got 6s\n",
    "+ How many times you got 1s\n",
    "+ How many times you got 6s two times in row\n"
   ]
  },
  {
   "cell_type": "markdown",
   "metadata": {
    "id": "yetJ4t2hMrP5"
   },
   "source": [
    "#### Count 6s"
   ]
  },
  {
   "cell_type": "markdown",
   "metadata": {
    "id": "qX4ToRtdM7_J"
   },
   "source": [
    "#### Count 1s"
   ]
  },
  {
   "cell_type": "markdown",
   "metadata": {
    "id": "lIhGWUm5NK2m"
   },
   "source": [
    "#### Counting 2 sixes in a row"
   ]
  },
  {
   "cell_type": "markdown",
   "metadata": {
    "id": "xLtJNVUdxH-N"
   },
   "source": [
    "4. Let's say you are doing push-ups and you have to complete 50 push-ups daily, write a program that,\\\n",
    "  i. Upon completing 10 push-ups in a go, asks you, “Are you tired?”\\\n",
    "  ii. If you reply “yes” or “y” then it should break and print “You did total     <total_pushups> push-ups.”\\\n",
    "  iii. For example: If you did only 30  push-ups and answered “yes” to your program. It will break the loop and print “You did total 30 push-ups”\n",
    "\n",
    "  iv. If you reply “no” or “n” then it should continue and display how many push-ups are remaining  now after that ask you again “Are you tired?”\n",
    "For Example: if you answered “no” then it should display that 20 push-ups are remaining and ask you again “Are you tired?”\n",
    "\n",
    "  v. If you complete all 50 push-ups, then it should print the “Congratulations! You made it” and stopped the program.\n"
   ]
  },
  {
   "cell_type": "markdown",
   "metadata": {
    "id": "ZB5bJCFt0PV1"
   },
   "source": [
    "Try with different answers to get different outputs.\n",
    "\n",
    "\n",
    "Thank you,\n",
    "Happy Coding!!"
   ]
  },
  {
   "cell_type": "code",
   "execution_count": null,
   "metadata": {
    "id": "kNYlf7IlzTsB"
   },
   "outputs": [],
   "source": []
  }
 ],
 "metadata": {
  "colab": {
   "collapsed_sections": [],
   "name": "7_for_loop.ipynb",
   "provenance": []
  },
  "kernelspec": {
   "display_name": "Python 3 (ipykernel)",
   "language": "python",
   "name": "python3"
  },
  "language_info": {
   "codemirror_mode": {
    "name": "ipython",
    "version": 3
   },
   "file_extension": ".py",
   "mimetype": "text/x-python",
   "name": "python",
   "nbconvert_exporter": "python",
   "pygments_lexer": "ipython3",
   "version": "3.10.11"
  }
 },
 "nbformat": 4,
 "nbformat_minor": 4
}

{
 "cells": [
  {
   "cell_type": "markdown",
   "metadata": {
    "id": "VZ8nRD_JxQRI"
   },
   "source": [
    "# 6 IF conditions\n",
    "\n",
    "solutions"
   ]
  },
  {
   "cell_type": "markdown",
   "metadata": {
    "id": "K54tsF28xdC5"
   },
   "source": [
    "1. Write a program that can tell you your BMI Category.\n",
    "\n",
    "+ Ask user to enter height\n",
    "+ Ask user to enter weight\n",
    "+ Calculate the BMI(Body Mass Index = wight / height 2) and store it in a variable\n",
    "+ If the BMI is 30 or greater, print “Obesity”\n",
    "+ If the BMI is in between 25 and 29, print “Over Weight”\n",
    "+ If the BMI is in between 18.5 and 25, print “Normal”\n",
    "+ If the BMI is less than 18.5, print “Under Weight”\n"
   ]
  },
  {
   "cell_type": "markdown",
   "metadata": {
    "id": "BNHdGsTJxyKw"
   },
   "source": [
    "### Enter Height and Weight "
   ]
  },
  {
   "cell_type": "code",
   "execution_count": 6,
   "metadata": {},
   "outputs": [
    {
     "name": "stdin",
     "output_type": "stream",
     "text": [
      "Enter your height:  168\n",
      "Enter your weight:  59\n"
     ]
    }
   ],
   "source": [
    "height = int(input(\"Enter your height: \"))\n",
    "weight = int(input(\"Enter your weight: \"))"
   ]
  },
  {
   "cell_type": "markdown",
   "metadata": {
    "id": "UyPPvz-nyIc8"
   },
   "source": [
    "### Calculate BMI\n",
    "\n",
    "BMI = weight / height **2"
   ]
  },
  {
   "cell_type": "code",
   "execution_count": 22,
   "metadata": {},
   "outputs": [],
   "source": [
    "BMI = weight / height ** 2"
   ]
  },
  {
   "cell_type": "code",
   "execution_count": 23,
   "metadata": {},
   "outputs": [
    {
     "name": "stdout",
     "output_type": "stream",
     "text": [
      "Under Weight\n"
     ]
    }
   ],
   "source": [
    "if BMI >= 30:\n",
    "    print(\"Obesity\")\n",
    "elif 25 < BMI < 29:\n",
    "    print(\"Over Weight\")\n",
    "elif 18.5 < BMI < 25:\n",
    "    print(\"Normal\")\n",
    "elif BMI < 18.5:\n",
    "    print(\"Under Weight\")"
   ]
  },
  {
   "cell_type": "markdown",
   "metadata": {
    "id": "1gzMfzEoBpK6"
   },
   "source": [
    "2. Using the following list of cities per country,\n",
    "```python\n",
    "India = [\"Mumbai\", \"Bangalore\", \"Chennai\", \"Delhi\"]\n",
    "USA = [\"New York\",\"Chicago\",\"Las Vegas\", “San Francisco”]\n",
    "UK = [“London”, “Manchester”, “Liverpool”, “Nottingham”]\n",
    "```\n",
    "- Write a program that asks the user to enter a city name, and it should tell which country the city belongs to\n",
    "- Write a program that asks user to enter two cities, and it tells you if they both are in the same country or not. For example, if I enter Mumbai and Chennai, it will print \"Both cities are in India\" but if I enter Mumbai and New York it should print \"They don't belong to the same country\"\n"
   ]
  },
  {
   "cell_type": "code",
   "execution_count": 24,
   "metadata": {
    "id": "1yuNzyZMF9j0"
   },
   "outputs": [],
   "source": [
    "india = [\"Mumbai\", \"Bangalore\", \"Chennai\", \"Delhi\"]\n",
    "usa = [\"New York\",\"Chicago\",\"Las Vegas\", \"San Francisco\"]\n",
    "uk = [\"London\", \"Manchester\", \"Liverpool\", \"Nottingham\"]"
   ]
  },
  {
   "cell_type": "code",
   "execution_count": 31,
   "metadata": {},
   "outputs": [
    {
     "name": "stdin",
     "output_type": "stream",
     "text": [
      "Please enter your city name:  Delhi\n"
     ]
    }
   ],
   "source": [
    "user_city = input(\"Please enter your city name: \")"
   ]
  },
  {
   "cell_type": "code",
   "execution_count": 32,
   "metadata": {},
   "outputs": [
    {
     "name": "stdout",
     "output_type": "stream",
     "text": [
      "India\n"
     ]
    }
   ],
   "source": [
    "if user_city in india:\n",
    "    print(\"India\")\n",
    "elif user_city in usa:\n",
    "    print(\"USA\")\n",
    "elif user_city in uk:\n",
    "    print(\"UK\")"
   ]
  },
  {
   "cell_type": "code",
   "execution_count": 35,
   "metadata": {},
   "outputs": [
    {
     "name": "stdin",
     "output_type": "stream",
     "text": [
      "Please enter your first city name:  Chicago\n",
      "Please enter your second city name:  Delhi\n"
     ]
    }
   ],
   "source": [
    "user_city1 = input(\"Please enter your first city name: \")\n",
    "user_city2 = input(\"Please enter your second city name: \")"
   ]
  },
  {
   "cell_type": "code",
   "execution_count": 37,
   "metadata": {},
   "outputs": [
    {
     "name": "stdout",
     "output_type": "stream",
     "text": [
      "They don't belong to the same country\n"
     ]
    }
   ],
   "source": [
    "if user_city1 in india and user_city2 in india:\n",
    "    print(\"Both cities are in India\")\n",
    "elif user_city1 in usa and user_city2 in usa:\n",
    "    print(\"Both cities are in USA\")\n",
    "elif user_city1 in uk and user_city2 in uk:\n",
    "    print(\"Both cities are in UK\")\n",
    "else:\n",
    "    print(\"They don't belong to the same country\")"
   ]
  },
  {
   "cell_type": "markdown",
   "metadata": {
    "id": "fUvdM82GHlA4"
   },
   "source": [
    "Thank You,\n",
    "\n",
    "Happy Coding!"
   ]
  }
 ],
 "metadata": {
  "colab": {
   "collapsed_sections": [],
   "name": "6_If_else.ipynb",
   "provenance": []
  },
  "kernelspec": {
   "display_name": "Python 3 (ipykernel)",
   "language": "python",
   "name": "python3"
  },
  "language_info": {
   "codemirror_mode": {
    "name": "ipython",
    "version": 3
   },
   "file_extension": ".py",
   "mimetype": "text/x-python",
   "name": "python",
   "nbconvert_exporter": "python",
   "pygments_lexer": "ipython3",
   "version": "3.10.11"
  }
 },
 "nbformat": 4,
 "nbformat_minor": 4
}

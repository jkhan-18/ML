{
 "cells": [
  {
   "cell_type": "markdown",
   "id": "f2a42236",
   "metadata": {},
   "source": [
    "## Problem Statement\n",
    "\n",
    "\n",
    "You are a data scientist at a management consulting firm specializing in workplace efficiency and employee productivity. You have been provided with a dataset named **\"employees_work_hours_data.csv\"**, containing detailed records of employees’ work hours and related attributes in a corporate setting. The dataset includes the following columns:\n",
    "\n",
    "- **employee_id:** A unique identifier for each employee.\n",
    "- **department:** The department where the employee works (e.g., Sales, IT, HR).\n",
    "- **remote_working:** Indicates whether the employee is working remotely (Yes/No).\n",
    "- **hours_worked_per_day:** The average number of hours the employee works per day."
   ]
  },
  {
   "cell_type": "code",
   "execution_count": null,
   "id": "20990fe8",
   "metadata": {},
   "outputs": [],
   "source": []
  },
  {
   "cell_type": "markdown",
   "id": "f864cedf",
   "metadata": {},
   "source": [
    "**Import Necessary Libraries**"
   ]
  },
  {
   "cell_type": "code",
   "execution_count": 41,
   "id": "1461f7c7",
   "metadata": {},
   "outputs": [],
   "source": [
    "import pandas as pd\n",
    "import seaborn as sns"
   ]
  },
  {
   "cell_type": "markdown",
   "id": "c33a8f65",
   "metadata": {},
   "source": [
    "### Task1: Importing and Examining the Dataset\n",
    "\n",
    "1. Import the data from the \"employees_work_hours_data.csv\" file.\n",
    "2. display the number of rows and columns. \n",
    "3. Display the first few rows of the dataset to get an overview.\n"
   ]
  },
  {
   "cell_type": "code",
   "execution_count": 36,
   "id": "354c5b81",
   "metadata": {},
   "outputs": [
    {
     "name": "stdout",
     "output_type": "stream",
     "text": [
      "(2800, 4)\n"
     ]
    },
    {
     "data": {
      "text/html": [
       "<div>\n",
       "<style scoped>\n",
       "    .dataframe tbody tr th:only-of-type {\n",
       "        vertical-align: middle;\n",
       "    }\n",
       "\n",
       "    .dataframe tbody tr th {\n",
       "        vertical-align: top;\n",
       "    }\n",
       "\n",
       "    .dataframe thead th {\n",
       "        text-align: right;\n",
       "    }\n",
       "</style>\n",
       "<table border=\"1\" class=\"dataframe\">\n",
       "  <thead>\n",
       "    <tr style=\"text-align: right;\">\n",
       "      <th></th>\n",
       "      <th>employee_id</th>\n",
       "      <th>department</th>\n",
       "      <th>remote_working</th>\n",
       "      <th>hours_worked_per_day</th>\n",
       "    </tr>\n",
       "  </thead>\n",
       "  <tbody>\n",
       "    <tr>\n",
       "      <th>0</th>\n",
       "      <td>E0001</td>\n",
       "      <td>HR</td>\n",
       "      <td>No</td>\n",
       "      <td>10.1</td>\n",
       "    </tr>\n",
       "    <tr>\n",
       "      <th>1</th>\n",
       "      <td>E0002</td>\n",
       "      <td>HR</td>\n",
       "      <td>No</td>\n",
       "      <td>8.5</td>\n",
       "    </tr>\n",
       "    <tr>\n",
       "      <th>2</th>\n",
       "      <td>E0003</td>\n",
       "      <td>IT</td>\n",
       "      <td>Yes</td>\n",
       "      <td>9.2</td>\n",
       "    </tr>\n",
       "    <tr>\n",
       "      <th>3</th>\n",
       "      <td>E0004</td>\n",
       "      <td>Marketing</td>\n",
       "      <td>No</td>\n",
       "      <td>10.7</td>\n",
       "    </tr>\n",
       "    <tr>\n",
       "      <th>4</th>\n",
       "      <td>E0005</td>\n",
       "      <td>Marketing</td>\n",
       "      <td>Yes</td>\n",
       "      <td>10.2</td>\n",
       "    </tr>\n",
       "  </tbody>\n",
       "</table>\n",
       "</div>"
      ],
      "text/plain": [
       "  employee_id department remote_working  hours_worked_per_day\n",
       "0       E0001         HR             No                  10.1\n",
       "1       E0002         HR             No                   8.5\n",
       "2       E0003         IT            Yes                   9.2\n",
       "3       E0004  Marketing             No                  10.7\n",
       "4       E0005  Marketing            Yes                  10.2"
      ]
     },
     "execution_count": 36,
     "metadata": {},
     "output_type": "execute_result"
    }
   ],
   "source": [
    "df = pd.read_csv(\"employees_work_hours_data.csv\")\n",
    "print(df.shape)\n",
    "df.head()"
   ]
  },
  {
   "cell_type": "markdown",
   "id": "f3b62614",
   "metadata": {},
   "source": [
    "### Task2: Statistical Measures of Work Hours\n",
    "\n",
    "Compute fundamental statistical measures for the 'hours_worked_per_day' column.\n",
    "- **Calculate the Mean**: Average number of hours worked per day by the employees.\n",
    "- **Compute the Standard Deviation**: The amount of variation or dispersion in the daily work hours."
   ]
  },
  {
   "cell_type": "code",
   "execution_count": 37,
   "id": "194393f2",
   "metadata": {},
   "outputs": [
    {
     "name": "stdout",
     "output_type": "stream",
     "text": [
      "Average number of hours worked per day by the employees: 7.98\n"
     ]
    }
   ],
   "source": [
    "mean_work_hours = round(df.hours_worked_per_day.mean(), 2)\n",
    "print(f'Average number of hours worked per day by the employees: {mean_work_hours}')"
   ]
  },
  {
   "cell_type": "code",
   "execution_count": 38,
   "id": "a492c42d-d49c-4a90-9752-e5babc498fda",
   "metadata": {},
   "outputs": [
    {
     "name": "stdout",
     "output_type": "stream",
     "text": [
      "The amount of variation or dispersion in the daily work hours: 1.34\n"
     ]
    }
   ],
   "source": [
    "std_dev_work_hours = round(df.hours_worked_per_day.std(), 2)\n",
    "print(f'The amount of variation or dispersion in the daily work hours: {std_dev_work_hours}')"
   ]
  },
  {
   "cell_type": "markdown",
   "id": "69f30183",
   "metadata": {},
   "source": [
    "### Task3: Calculating Z-Scores for Outlier Detection\n",
    "\n",
    "- **Compute Z-Scores:** For each entry in the 'hours_worked_per_day' column, calculate its Z-score. The Z-score represents how many standard deviations a value is from the mean, which is crucial for identifying outliers."
   ]
  },
  {
   "cell_type": "code",
   "execution_count": 39,
   "id": "69ea8c90",
   "metadata": {},
   "outputs": [
    {
     "data": {
      "text/html": [
       "<div>\n",
       "<style scoped>\n",
       "    .dataframe tbody tr th:only-of-type {\n",
       "        vertical-align: middle;\n",
       "    }\n",
       "\n",
       "    .dataframe tbody tr th {\n",
       "        vertical-align: top;\n",
       "    }\n",
       "\n",
       "    .dataframe thead th {\n",
       "        text-align: right;\n",
       "    }\n",
       "</style>\n",
       "<table border=\"1\" class=\"dataframe\">\n",
       "  <thead>\n",
       "    <tr style=\"text-align: right;\">\n",
       "      <th></th>\n",
       "      <th>employee_id</th>\n",
       "      <th>department</th>\n",
       "      <th>remote_working</th>\n",
       "      <th>hours_worked_per_day</th>\n",
       "      <th>z_scores</th>\n",
       "    </tr>\n",
       "  </thead>\n",
       "  <tbody>\n",
       "    <tr>\n",
       "      <th>0</th>\n",
       "      <td>E0001</td>\n",
       "      <td>HR</td>\n",
       "      <td>No</td>\n",
       "      <td>10.1</td>\n",
       "      <td>1.582090</td>\n",
       "    </tr>\n",
       "    <tr>\n",
       "      <th>1</th>\n",
       "      <td>E0002</td>\n",
       "      <td>HR</td>\n",
       "      <td>No</td>\n",
       "      <td>8.5</td>\n",
       "      <td>0.388060</td>\n",
       "    </tr>\n",
       "    <tr>\n",
       "      <th>2</th>\n",
       "      <td>E0003</td>\n",
       "      <td>IT</td>\n",
       "      <td>Yes</td>\n",
       "      <td>9.2</td>\n",
       "      <td>0.910448</td>\n",
       "    </tr>\n",
       "    <tr>\n",
       "      <th>3</th>\n",
       "      <td>E0004</td>\n",
       "      <td>Marketing</td>\n",
       "      <td>No</td>\n",
       "      <td>10.7</td>\n",
       "      <td>2.029851</td>\n",
       "    </tr>\n",
       "    <tr>\n",
       "      <th>4</th>\n",
       "      <td>E0005</td>\n",
       "      <td>Marketing</td>\n",
       "      <td>Yes</td>\n",
       "      <td>10.2</td>\n",
       "      <td>1.656716</td>\n",
       "    </tr>\n",
       "  </tbody>\n",
       "</table>\n",
       "</div>"
      ],
      "text/plain": [
       "  employee_id department remote_working  hours_worked_per_day  z_scores\n",
       "0       E0001         HR             No                  10.1  1.582090\n",
       "1       E0002         HR             No                   8.5  0.388060\n",
       "2       E0003         IT            Yes                   9.2  0.910448\n",
       "3       E0004  Marketing             No                  10.7  2.029851\n",
       "4       E0005  Marketing            Yes                  10.2  1.656716"
      ]
     },
     "execution_count": 39,
     "metadata": {},
     "output_type": "execute_result"
    }
   ],
   "source": [
    "df['z_scores'] = (df.hours_worked_per_day - mean_work_hours) / std_dev_work_hours\n",
    "df.head()"
   ]
  },
  {
   "cell_type": "markdown",
   "id": "4310814a",
   "metadata": {},
   "source": [
    "### Task4: Removing Outliers Based on Z-Scores\n",
    "\n",
    "- Identify and exclude rows where the 'hours_worked_per_day' Z-score is less than -3 or greater than +3, thus removing outliers from the dataset."
   ]
  },
  {
   "cell_type": "code",
   "execution_count": 40,
   "id": "43ed89a7",
   "metadata": {},
   "outputs": [
    {
     "name": "stdout",
     "output_type": "stream",
     "text": [
      "(2772, 5)\n"
     ]
    },
    {
     "data": {
      "text/html": [
       "<div>\n",
       "<style scoped>\n",
       "    .dataframe tbody tr th:only-of-type {\n",
       "        vertical-align: middle;\n",
       "    }\n",
       "\n",
       "    .dataframe tbody tr th {\n",
       "        vertical-align: top;\n",
       "    }\n",
       "\n",
       "    .dataframe thead th {\n",
       "        text-align: right;\n",
       "    }\n",
       "</style>\n",
       "<table border=\"1\" class=\"dataframe\">\n",
       "  <thead>\n",
       "    <tr style=\"text-align: right;\">\n",
       "      <th></th>\n",
       "      <th>employee_id</th>\n",
       "      <th>department</th>\n",
       "      <th>remote_working</th>\n",
       "      <th>hours_worked_per_day</th>\n",
       "      <th>z_scores</th>\n",
       "    </tr>\n",
       "  </thead>\n",
       "  <tbody>\n",
       "    <tr>\n",
       "      <th>0</th>\n",
       "      <td>E0001</td>\n",
       "      <td>HR</td>\n",
       "      <td>No</td>\n",
       "      <td>10.1</td>\n",
       "      <td>1.582090</td>\n",
       "    </tr>\n",
       "    <tr>\n",
       "      <th>1</th>\n",
       "      <td>E0002</td>\n",
       "      <td>HR</td>\n",
       "      <td>No</td>\n",
       "      <td>8.5</td>\n",
       "      <td>0.388060</td>\n",
       "    </tr>\n",
       "    <tr>\n",
       "      <th>2</th>\n",
       "      <td>E0003</td>\n",
       "      <td>IT</td>\n",
       "      <td>Yes</td>\n",
       "      <td>9.2</td>\n",
       "      <td>0.910448</td>\n",
       "    </tr>\n",
       "    <tr>\n",
       "      <th>3</th>\n",
       "      <td>E0004</td>\n",
       "      <td>Marketing</td>\n",
       "      <td>No</td>\n",
       "      <td>10.7</td>\n",
       "      <td>2.029851</td>\n",
       "    </tr>\n",
       "    <tr>\n",
       "      <th>4</th>\n",
       "      <td>E0005</td>\n",
       "      <td>Marketing</td>\n",
       "      <td>Yes</td>\n",
       "      <td>10.2</td>\n",
       "      <td>1.656716</td>\n",
       "    </tr>\n",
       "  </tbody>\n",
       "</table>\n",
       "</div>"
      ],
      "text/plain": [
       "  employee_id department remote_working  hours_worked_per_day  z_scores\n",
       "0       E0001         HR             No                  10.1  1.582090\n",
       "1       E0002         HR             No                   8.5  0.388060\n",
       "2       E0003         IT            Yes                   9.2  0.910448\n",
       "3       E0004  Marketing             No                  10.7  2.029851\n",
       "4       E0005  Marketing            Yes                  10.2  1.656716"
      ]
     },
     "execution_count": 40,
     "metadata": {},
     "output_type": "execute_result"
    }
   ],
   "source": [
    "df_without_outliers = df[(df.z_scores > -3) & ((df.z_scores < 3))]\n",
    "print(df_without_outliers.shape)\n",
    "df_without_outliers.head()"
   ]
  },
  {
   "cell_type": "markdown",
   "id": "09926056",
   "metadata": {},
   "source": [
    "### Task5: Standard Normal Distribution Post-Outlier Removal\n",
    "\n",
    "-  Construct a visual plot of the Standard Normal Distribution using the Z-scores from the 'hours_worked_per_day' data, ensuring to include only the data after outlier removal. "
   ]
  },
  {
   "cell_type": "code",
   "execution_count": 42,
   "id": "eca3fffb",
   "metadata": {},
   "outputs": [
    {
     "data": {
      "text/plain": [
       "<Axes: xlabel='z_scores', ylabel='Count'>"
      ]
     },
     "execution_count": 42,
     "metadata": {},
     "output_type": "execute_result"
    },
    {
     "data": {
      "image/png": "[encoded data removed]",
      "text/plain": [
       "<Figure size 640x480 with 1 Axes>"
      ]
     },
     "metadata": {},
     "output_type": "display_data"
    }
   ],
   "source": [
    "sns.histplot(df.z_scores, kde=True)"
   ]
  },
  {
   "cell_type": "markdown",
   "id": "38abf33f-9127-4baa-89e1-fa0ed9ee7f09",
   "metadata": {},
   "source": [
    "* As it is a Standard Normal Distribution we can see mean is 0 and standard deviation is 1"
   ]
  },
  {
   "cell_type": "code",
   "execution_count": null,
   "id": "f46fc325-18b0-45a6-a65c-d9372d0021bc",
   "metadata": {},
   "outputs": [],
   "source": []
  }
 ],
 "metadata": {
  "kernelspec": {
   "display_name": "Python 3 (ipykernel)",
   "language": "python",
   "name": "python3"
  },
  "language_info": {
   "codemirror_mode": {
    "name": "ipython",
    "version": 3
   },
   "file_extension": ".py",
   "mimetype": "text/x-python",
   "name": "python",
   "nbconvert_exporter": "python",
   "pygments_lexer": "ipython3",
   "version": "3.10.11"
  }
 },
 "nbformat": 4,
 "nbformat_minor": 5
}

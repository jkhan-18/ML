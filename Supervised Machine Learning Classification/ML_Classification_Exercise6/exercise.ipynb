{
 "cells": [
  {
   "cell_type": "markdown",
   "id": "9e4326cc-97e7-4cfb-9b72-06b96a6aaaba",
   "metadata": {},
   "source": [
    "### Problem Statement\n",
    "\n",
    "You are a data scientist / AI engineer working on a breast cancer recurrence prediction project. You have been provided with a dataset named **`\"breast_cancer_data.csv\"`**, which includes various clinical and pathological factors influencing the recurrence of breast cancer. The dataset comprises the following columns:\n",
    "\n",
    "- `age:` Age of the patient (ranges: 30-39, 40-49, 50-59, 60-69).\n",
    "- `menopause:` Menopause status of the patient (premeno, ge40, lt40).\n",
    "- `tumor-size:` Size of the tumor (ranges in mm).\n",
    "- `inv-nodes:` Number of involved lymph nodes (ranges).\n",
    "- `node-caps:` Whether node caps are present (yes or no).\n",
    "- `deg-malig:` Degree of malignancy (1, 2, 3).\n",
    "- `breast:` Breast involved (left or right).\n",
    "- `breast-quad:` Quadrant of the breast involved (left_up, left_low, right_up, right_low, central).\n",
    "- `irradiat:` Whether the patient received irradiation (yes or no).\n",
    "- `class:` Recurrence of breast cancer (no-recurrence-events, recurrence-events).\n",
    "\n",
    "Your task is to analyze this dataset to understand the factors contributing to breast cancer recurrence. You will handle class imbalance using various techniques and build machine learning models to predict whether a patient will experience recurrence events based on the provided features."
   ]
  },
  {
   "cell_type": "code",
   "execution_count": 1,
   "id": "d223f0c6-bb79-4a45-897a-634c71f57f22",
   "metadata": {},
   "outputs": [],
   "source": [
    "# # Dataset Credits\n",
    "\n",
    "# Zwitter,Matjaz and Soklic,Milan. (1988). Breast Cancer. \n",
    "# UCI Machine Learning Repository. https://doi.org/10.24432/C51P4M."
   ]
  },
  {
   "cell_type": "markdown",
   "id": "e31c2186-e911-424d-936a-b81947288874",
   "metadata": {},
   "source": [
    "**Import Necessary Libraries**"
   ]
  },
  {
   "cell_type": "code",
   "execution_count": 12,
   "id": "366bfaf1-97de-497f-a344-46f2be2cd7ec",
   "metadata": {},
   "outputs": [],
   "source": [
    "# Import necessary libraries\n",
    "import pandas as pd\n",
    "import matplotlib.pyplot as plt\n"
   ]
  },
  {
   "cell_type": "markdown",
   "id": "0e06278d-f1a3-4c6a-ae0f-10dfc18e9427",
   "metadata": {},
   "source": [
    "### Task 1: Data Preparation and Exploration\n",
    "\n",
    "1. Import the dataset and display the first few rows to understand its structure.\n",
    "2. Check for any missing values in the dataset and handle them appropriately.\n",
    "3. Visualize the class distribution to identify any class imbalance in the dataset.\n",
    "4. Encoding categorical variables using one-hot encoding for the following columns: `age, menopause, tumor-size, inv-nodes, node-caps, breast, breast-quad, irradiat`."
   ]
  },
  {
   "cell_type": "code",
   "execution_count": 3,
   "id": "a3b5da9b-8f2d-43c9-ab78-7b1638ca9d52",
   "metadata": {},
   "outputs": [
    {
     "name": "stdout",
     "output_type": "stream",
     "text": [
      "(286, 10)\n"
     ]
    },
    {
     "data": {
      "text/html": [
       "<div>\n",
       "<style scoped>\n",
       "    .dataframe tbody tr th:only-of-type {\n",
       "        vertical-align: middle;\n",
       "    }\n",
       "\n",
       "    .dataframe tbody tr th {\n",
       "        vertical-align: top;\n",
       "    }\n",
       "\n",
       "    .dataframe thead th {\n",
       "        text-align: right;\n",
       "    }\n",
       "</style>\n",
       "<table border=\"1\" class=\"dataframe\">\n",
       "  <thead>\n",
       "    <tr style=\"text-align: right;\">\n",
       "      <th></th>\n",
       "      <th>age</th>\n",
       "      <th>menopause</th>\n",
       "      <th>tumor-size</th>\n",
       "      <th>inv-nodes</th>\n",
       "      <th>node-caps</th>\n",
       "      <th>deg-malig</th>\n",
       "      <th>breast</th>\n",
       "      <th>breast-quad</th>\n",
       "      <th>irradiat</th>\n",
       "      <th>class</th>\n",
       "    </tr>\n",
       "  </thead>\n",
       "  <tbody>\n",
       "    <tr>\n",
       "      <th>0</th>\n",
       "      <td>30-39</td>\n",
       "      <td>premeno</td>\n",
       "      <td>30-34</td>\n",
       "      <td>0-2</td>\n",
       "      <td>no</td>\n",
       "      <td>3</td>\n",
       "      <td>left</td>\n",
       "      <td>left_low</td>\n",
       "      <td>no</td>\n",
       "      <td>no-recurrence-events</td>\n",
       "    </tr>\n",
       "    <tr>\n",
       "      <th>1</th>\n",
       "      <td>40-49</td>\n",
       "      <td>premeno</td>\n",
       "      <td>20-24</td>\n",
       "      <td>0-2</td>\n",
       "      <td>no</td>\n",
       "      <td>2</td>\n",
       "      <td>right</td>\n",
       "      <td>right_up</td>\n",
       "      <td>no</td>\n",
       "      <td>no-recurrence-events</td>\n",
       "    </tr>\n",
       "    <tr>\n",
       "      <th>2</th>\n",
       "      <td>40-49</td>\n",
       "      <td>premeno</td>\n",
       "      <td>20-24</td>\n",
       "      <td>0-2</td>\n",
       "      <td>no</td>\n",
       "      <td>2</td>\n",
       "      <td>left</td>\n",
       "      <td>left_low</td>\n",
       "      <td>no</td>\n",
       "      <td>no-recurrence-events</td>\n",
       "    </tr>\n",
       "    <tr>\n",
       "      <th>3</th>\n",
       "      <td>60-69</td>\n",
       "      <td>ge40</td>\n",
       "      <td>15-19</td>\n",
       "      <td>0-2</td>\n",
       "      <td>no</td>\n",
       "      <td>2</td>\n",
       "      <td>right</td>\n",
       "      <td>left_up</td>\n",
       "      <td>no</td>\n",
       "      <td>no-recurrence-events</td>\n",
       "    </tr>\n",
       "    <tr>\n",
       "      <th>4</th>\n",
       "      <td>40-49</td>\n",
       "      <td>premeno</td>\n",
       "      <td>0-4</td>\n",
       "      <td>0-2</td>\n",
       "      <td>no</td>\n",
       "      <td>2</td>\n",
       "      <td>right</td>\n",
       "      <td>right_low</td>\n",
       "      <td>no</td>\n",
       "      <td>no-recurrence-events</td>\n",
       "    </tr>\n",
       "  </tbody>\n",
       "</table>\n",
       "</div>"
      ],
      "text/plain": [
       "     age menopause tumor-size inv-nodes node-caps  deg-malig breast  \\\n",
       "0  30-39   premeno      30-34       0-2        no          3   left   \n",
       "1  40-49   premeno      20-24       0-2        no          2  right   \n",
       "2  40-49   premeno      20-24       0-2        no          2   left   \n",
       "3  60-69      ge40      15-19       0-2        no          2  right   \n",
       "4  40-49   premeno        0-4       0-2        no          2  right   \n",
       "\n",
       "  breast-quad irradiat                 class  \n",
       "0    left_low       no  no-recurrence-events  \n",
       "1    right_up       no  no-recurrence-events  \n",
       "2    left_low       no  no-recurrence-events  \n",
       "3     left_up       no  no-recurrence-events  \n",
       "4   right_low       no  no-recurrence-events  "
      ]
     },
     "execution_count": 3,
     "metadata": {},
     "output_type": "execute_result"
    }
   ],
   "source": [
    "# Step 1: Import the dataset and display the first few rows\n",
    "df = pd.read_csv(\"breast_cancer_data.csv\")\n",
    "print(df.shape)\n",
    "\n",
    "df.head()\n"
   ]
  },
  {
   "cell_type": "code",
   "execution_count": 5,
   "id": "030f22df-bc4b-48f0-9e94-9fa546b4bfcd",
   "metadata": {},
   "outputs": [
    {
     "data": {
      "text/plain": [
       "age            0\n",
       "menopause      0\n",
       "tumor-size     0\n",
       "inv-nodes      0\n",
       "node-caps      8\n",
       "deg-malig      0\n",
       "breast         0\n",
       "breast-quad    0\n",
       "irradiat       0\n",
       "class          0\n",
       "dtype: int64"
      ]
     },
     "execution_count": 5,
     "metadata": {},
     "output_type": "execute_result"
    }
   ],
   "source": [
    "# Step 2: Check for any missing values in the dataset and handle them appropriately\n",
    "df.isna().sum()\n"
   ]
  },
  {
   "cell_type": "code",
   "execution_count": 13,
   "id": "866fb82a-661a-4dad-9ca8-e2e64adebdf0",
   "metadata": {},
   "outputs": [
    {
     "data": {
      "image/png": "[encoded data removed]",
      "text/plain": [
       "<Figure size 640x480 with 1 Axes>"
      ]
     },
     "metadata": {},
     "output_type": "display_data"
    }
   ],
   "source": [
    "# Step 3: Visualize the class distribution to identify any class imbalance in the dataset\n",
    "df['class'].value_counts().plot(kind=\"bar\", color={\"red\", \"green\"}, title=\"Class Distribution\")\n",
    "plt.show()"
   ]
  },
  {
   "cell_type": "code",
   "execution_count": 5,
   "id": "d4314b41-f673-469d-a719-4f209422c97a",
   "metadata": {},
   "outputs": [],
   "source": [
    "# Step 4: Encoding categorical variables using one-hot encoding for the following columns:\n",
    "# age, menopause, tumor-size, inv-nodes, node-caps, breast, breast-quad, irradiat.\n",
    "\n"
   ]
  },
  {
   "cell_type": "markdown",
   "id": "420bc740-df4f-4cbc-a9f0-27068e5a23f2",
   "metadata": {},
   "source": [
    "### Task 2: Logistic Regression Model Without Handling Class Imbalance\n",
    "\n",
    "1. Split the dataset into training and test sets.\n",
    "2. Train a Logistic Regression model using the training data.\n",
    "3. Evaluate the model using a classification report, including precision, recall, and F1-score."
   ]
  },
  {
   "cell_type": "code",
   "execution_count": 6,
   "id": "03fa7644-ae81-432f-be55-e66f62a41793",
   "metadata": {},
   "outputs": [],
   "source": [
    "# Step 1: Split the dataset into training and test sets\n",
    "\n"
   ]
  },
  {
   "cell_type": "code",
   "execution_count": 7,
   "id": "76166f86-a594-4608-952c-1ac6dad44650",
   "metadata": {},
   "outputs": [],
   "source": [
    "# Step 2: Train a Logistic Regression model using the training data\n",
    "\n"
   ]
  },
  {
   "cell_type": "code",
   "execution_count": 8,
   "id": "cab04658-8884-478e-b63c-3e505f199ba2",
   "metadata": {},
   "outputs": [],
   "source": [
    "# Step 3: Evaluate the model using a classification report, including precision, recall, and F1-score\n"
   ]
  },
  {
   "cell_type": "markdown",
   "id": "ef5af349-d029-4183-887c-a086250aa203",
   "metadata": {},
   "source": [
    "### Task 3: Handling Class Imbalance Using Undersampling\n",
    "\n",
    "1. Apply undersampling to balance the classes in the training data.\n",
    "2. Train a Logistic Regression model using the undersampled training data.\n",
    "3. Evaluate the model using a classification report, including precision, recall, and F1-score."
   ]
  },
  {
   "cell_type": "code",
   "execution_count": 9,
   "id": "9a3d3ba3-0958-4f70-ba8c-276b2f36ecc8",
   "metadata": {},
   "outputs": [],
   "source": [
    "# Step 1: Apply undersampling to balance the classes in the training data\n"
   ]
  },
  {
   "cell_type": "code",
   "execution_count": 10,
   "id": "dec337b3-9c21-428d-9105-1b79625ad961",
   "metadata": {},
   "outputs": [],
   "source": [
    "# Step 2: Train a Logistic Regression model using the undersampled training data\n",
    "\n"
   ]
  },
  {
   "cell_type": "code",
   "execution_count": 11,
   "id": "b74f4fea-08d5-47dd-9ea5-81adc8fd6c38",
   "metadata": {},
   "outputs": [],
   "source": [
    "# Step 3: Evaluate the model using a classification report, including precision, recall, and F1-score\n",
    "\n"
   ]
  },
  {
   "cell_type": "markdown",
   "id": "7534fb36-42b0-4353-b0ae-ef74d8dcf99e",
   "metadata": {},
   "source": [
    "### Task 4: Handling Class Imbalance Using SMOTE (Oversampling)\n",
    "\n",
    "1. Apply SMOTE (Synthetic Minority Over-sampling Technique) to balance the classes in the training data.\n",
    "2. Train a Logistic Regression model using the SMOTE-balanced training data.\n",
    "3. Evaluate the model using a classification report, including precision, recall, and F1-score."
   ]
  },
  {
   "cell_type": "code",
   "execution_count": 12,
   "id": "23b1e2b0-2765-4a33-9cb0-4fe268ab39c1",
   "metadata": {},
   "outputs": [],
   "source": [
    "# Step 1: Apply SMOTE to balance the classes in the training data\n",
    "\n",
    "\n",
    "\n",
    "# Step 2: Train a Logistic Regression model using the SMOTE-balanced training data\n",
    "\n",
    "\n",
    "\n",
    "# Step 3: Evaluate the model using a classification report, including precision, recall, and F1-score\n"
   ]
  },
  {
   "cell_type": "markdown",
   "id": "ff63426b-f134-45cc-9191-b4c2c9096dcc",
   "metadata": {},
   "source": [
    "### Task 5: Handling Class Imbalance Using SMOTE Tomek Links\n",
    "\n",
    "1. Apply SMOTE Tomek Links to balance the classes in the training data.\n",
    "2. Train a Logistic Regression model using the SMOTE Tomek Links-balanced training data.\n",
    "3. Evaluate the model using a classification report, including precision, recall, and F1-score."
   ]
  },
  {
   "cell_type": "code",
   "execution_count": 13,
   "id": "b1230915-27c3-42b4-a4fd-95acf3a22853",
   "metadata": {},
   "outputs": [],
   "source": [
    "# Step 1: Apply SMOTE Tomek Links to balance the classes in the training data\n",
    "\n",
    "\n",
    "# Step 2: Train a Logistic Regression model using the SMOTE Tomek Links-balanced training data\n",
    "\n",
    "\n",
    "# Step 3: Evaluate the model using a classification report, including precision, recall, and F1-score\n"
   ]
  }
 ],
 "metadata": {
  "kernelspec": {
   "display_name": "Python 3 (ipykernel)",
   "language": "python",
   "name": "python3"
  },
  "language_info": {
   "codemirror_mode": {
    "name": "ipython",
    "version": 3
   },
   "file_extension": ".py",
   "mimetype": "text/x-python",
   "name": "python",
   "nbconvert_exporter": "python",
   "pygments_lexer": "ipython3",
   "version": "3.10.11"
  }
 },
 "nbformat": 4,
 "nbformat_minor": 5
}
